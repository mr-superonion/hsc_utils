{
 "cells": [
  {
   "cell_type": "markdown",
   "id": "69492a37-cd65-411f-90df-22dea836a224",
   "metadata": {},
   "source": [
    "# Read Data\n",
    "\n",
    "+ Data are stored in six fields (i.e. XMM, VVDS, HECTOMAP, GAMA09H, WIDE12H, GAMA15H)\n",
    "+ Use column `hsc_y3_zbin` to select galaxies in four redshift bins\n",
    "\n",
    "+ the column names and descriptions are:\n",
    "    - i_ra, i_dec: RA and DEC of the object\n",
    "    - object_id: object_id to be cross matched to get photometric redshifts.\n",
    "    - i_hsmshaperegauss_e1/2:  Galaxy distortion (e1, e2) in sky coordinates\n",
    "    - i_hsmshaperegauss_derived_sigma_e: per-component shape measurement uncertainty\n",
    "    - i_hsmshaperegauss_derived_rms_e: per-component RMS ellipticity estimate\n",
    "    - i_hsmshaperegauss_derived_weight: Weight used for lensing calculations\n",
    "    - i_hsmshaperegauss_derived_shear_bias_m : Multiplicative bias factor \n",
    "    - i_hsmshaperegauss_derived_shear_bias_c1/2: Additive bias factor for each component\n",
    "    - i_hsmshaperegauss_resolution: The resolution compared to the PSF \n",
    "    - i_apertureflux_10_mag: The flux in aperture with radius 1 arcsec \n",
    "    - hsc_y3_zbin: redshift bin number (from 1 to 4) for the HSC cosmic shear analysis.\n",
    "    - b_mode_mask: Mask to remove regions with large B-mode (use b_mode_mask==True to select galaxies not in the masked region)"
   ]
  },
  {
   "cell_type": "code",
   "execution_count": 1,
   "id": "f2f4e796-b233-4ceb-818f-f4fc2dadb4b4",
   "metadata": {},
   "outputs": [],
   "source": [
    "import os\n",
    "import astropy.io.fits as pyfits\n",
    "data_dir = \"/work/xiangchong.li/work/S19ACatalogs/catalog_obs_reGaus_public\"\n",
    "file_name = os.path.join(data_dir, \"XMM.fits\")\n",
    "data = pyfits.getdata(file_name)\n",
    "# The first redshift bin\n",
    "data_z1 = data[data[\"hsc_y3_zbin\"] ==1 ]"
   ]
  },
  {
   "cell_type": "markdown",
   "id": "3fe40eef-d1fd-496c-b28a-95c36822716e",
   "metadata": {},
   "source": [
    "# Calculate the average multiplicative bias and shear response\n",
    "The multiplicative bias includes\n",
    "+ shear estimation bias (`mbias`)\n",
    "+ selection bias (`msel`)\n",
    "\n",
    "In additon, we need to get the fractional additive bias from selection (`asel`) and the shear response (`response`)"
   ]
  },
  {
   "cell_type": "code",
   "execution_count": 15,
   "id": "8fa23af0-a415-4f3b-b10b-bd738384fe72",
   "metadata": {},
   "outputs": [],
   "source": [
    "# We are estimating the average over all fields\n",
    "data_z1 = []\n",
    "data_dir = \"/work/xiangchong.li/work/S19ACatalogs/catalog_obs_reGaus_calibrated/\"\n",
    "for fieldname in [\"XMM\", \"VVDS\", \"HECTOMAP\", \"GAMA09H\", \"WIDE12H\", \"GAMA15H\"]:\n",
    "    file_name = os.path.join(data_dir, \"%s_calibrated.fits\" % fieldname)\n",
    "    data = pyfits.getdata(file_name)\n",
    "    sel = (data[\"hsc_y3_zbin\"] ==1) & (data[\"b_mode_mask\"])\n",
    "    data_z1.append(data[sel])\n",
    "data_z1 = np.hstack(data_z1)\n",
    "wsum = np.sum(data_z1['i_hsmshaperegauss_derived_weight'])\n",
    "\n",
    "# Multiplicative bias\n",
    "mbias = np.sum(\n",
    "    data_z1['i_hsmshaperegauss_derived_shear_bias_m']\n",
    "    * data_z1['i_hsmshaperegauss_derived_weight']\n",
    ") / wsum\n",
    "\n",
    "# Shear response\n",
    "response = 1 - np.sum(\n",
    "    data_z1['i_hsmshaperegauss_derived_rms_e']**2.0\n",
    "    * data_z1['i_hsmshaperegauss_derived_weight']\n",
    ") / wsum\n",
    "\n",
    "# Selection bias\n",
    "from utils_shear_ana import catutil\n",
    "msel, asel, msel_err, asel_err = catutil.get_sel_bias(\n",
    "    data_z1['i_hsmshaperegauss_derived_weight'],\n",
    "    data_z1['i_apertureflux_10_mag'],\n",
    "    data_z1['i_hsmshaperegauss_resolution'],\n",
    ")"
   ]
  },
  {
   "cell_type": "markdown",
   "id": "aec874cd-bbc4-483c-8866-e74e3eb3c69b",
   "metadata": {},
   "source": [
    "# Transform the shape catalog to shear catalog"
   ]
  },
  {
   "cell_type": "code",
   "execution_count": 16,
   "id": "b4397af9-c8f5-446e-8900-dd80e87b9d79",
   "metadata": {},
   "outputs": [],
   "source": [
    "# shear\n",
    "g1, g2 = catutil.get_shear_regauss(data_z1, mbias, msel, asel)\n",
    "# position\n",
    "ra, dec = catutil.get_radec(data_z1)\n",
    "# weight\n",
    "weight = catutil.get_shape_weight_regauss(data_z1)"
   ]
  },
  {
   "cell_type": "markdown",
   "id": "6a387f26-a02a-491c-be62-c0cf1b1f37ad",
   "metadata": {},
   "source": [
    "# Generate Mock Shape Catalog \n",
    "+ We randomly rotate the observed galaxy catalog to simulate shape noise\n",
    "+ The shear and convergence fields are from cosmology simulation"
   ]
  },
  {
   "cell_type": "code",
   "execution_count": 2,
   "id": "d8128653-6ee5-4739-92dc-a9b8d1839701",
   "metadata": {},
   "outputs": [],
   "source": [
    "# read the mock shape catalog\n",
    "mock_name = \"/work/xiangchong.li/work/S19ACatalogs/catalog_mock/shape_v2/fields/XMM/mock_nres13_r000_rotmat0_shear_catalog.fits\"\n",
    "mock_data = pyfits.getdata(mock_name)\n",
    "\n",
    "# read the shape catalog\n",
    "data_dir = \"/work/xiangchong.li/work/S19ACatalogs/catalog_obs_reGaus_public\"\n",
    "file_name = os.path.join(data_dir, \"XMM.fits\")\n",
    "\n",
    "data = pyfits.getdata(file_name)\n",
    "from utils_shear_ana import catutil"
   ]
  },
  {
   "cell_type": "code",
   "execution_count": 8,
   "id": "d9ebe6d7-bf64-4986-9dbd-88b277fdccaf",
   "metadata": {},
   "outputs": [],
   "source": [
    "# Use the simulated shear and convergence to generate mock shapes\n",
    "e1_mock, e2_mock = catutil.generate_mock_shape_from_sim(\n",
    "    gamma1_sim=mock_data[\"shear1_sim\"],\n",
    "    gamma2_sim=mock_data[\"shear2_sim\"],\n",
    "    kappa_sim=mock_data[\"kappa\"],\n",
    "    shape1_int=mock_data[\"noise1_int\"],\n",
    "    shape2_int=mock_data[\"noise2_int\"],\n",
    "    shape1_meas=mock_data[\"noise1_mea\"],\n",
    "    shape2_meas=mock_data[\"noise2_mea\"],\n",
    ")\n",
    "\n",
    "# make sure we get consistent result with Shirasaki Masato\n",
    "np.testing.assert_allclose(mock_data[\"e1_mock\"], e1_mock, atol=1e-6, rtol=0)\n",
    "np.testing.assert_allclose(mock_data[\"e2_mock\"], e2_mock, atol=1e-6, rtol=0)\n",
    "\n",
    "# In the example above, the multiplicative biases (shear calibration and selection bias) are set to zero\n",
    "# When generate the mock catalog for cosmology analysis, we need to set multiplicative bias "
   ]
  },
  {
   "cell_type": "code",
   "execution_count": 12,
   "id": "431eba66-9c61-4853-b302-e9a7371bf4fe",
   "metadata": {},
   "outputs": [],
   "source": [
    "# The following example generate one realization of intrinsic shape and measurement error\n",
    "# Neglecting second order in shear here.\n",
    "int1, int2, meas1, meas2 = catutil.simulate_shape_noise(\n",
    "    e1 = data[\"i_hsmshaperegauss_e1\"],\n",
    "    e2 = data[\"i_hsmshaperegauss_e2\"],\n",
    "    e_rms=data[\"i_hsmshaperegauss_derived_rms_e\"],\n",
    "    sigma_e=data[\"i_hsmshaperegauss_derived_sigma_e\"],\n",
    "    seed=1,\n",
    ")\n",
    "# make sure that the simulated shapes has the same variance\n",
    "print((np.var(int1) + np.var(meas1) - np.var(data[\"i_hsmshaperegauss_e1\"])) /np.var(data[\"i_hsmshaperegauss_e1\"]) )\n",
    "print((np.var(int2) + np.var(meas2) - np.var(data[\"i_hsmshaperegauss_e2\"])) /np.var(data[\"i_hsmshaperegauss_e2\"]) )"
   ]
  }
 ],
 "metadata": {
  "kernelspec": {
   "display_name": "Python 3 (ipykernel)",
   "language": "python",
   "name": "python3"
  },
  "language_info": {
   "codemirror_mode": {
    "name": "ipython",
    "version": 3
   },
   "file_extension": ".py",
   "mimetype": "text/x-python",
   "name": "python",
   "nbconvert_exporter": "python",
   "pygments_lexer": "ipython3",
   "version": "3.10.10"
  }
 },
 "nbformat": 4,
 "nbformat_minor": 5
}
