{
 "cells": [
  {
   "cell_type": "markdown",
   "id": "69492a37-cd65-411f-90df-22dea836a224",
   "metadata": {},
   "source": [
    "# Read Data\n",
    "\n",
    "+ Data are stored in six fields (i.e. XMM, VVDS, HECTOMAP, GAMA09H, WIDE12H, GAMA15H)\n",
    "+ Use column `hsc_y3_zbin` to select galaxies in four redshift bins\n",
    "\n",
    "+ the column names and descriptions are:\n",
    "    - i_ra, i_dec: RA and DEC of the object\n",
    "    - object_id: object_id to be cross matched to get photometric redshifts.\n",
    "    - i_hsmshaperegauss_e1/2:  Galaxy distortion (e1, e2) in sky coordinates\n",
    "    - i_hsmshaperegauss_derived_sigma_e: per-component shape measurement uncertainty\n",
    "    - i_hsmshaperegauss_derived_rms_e: per-component RMS ellipticity estimate\n",
    "    - i_hsmshaperegauss_derived_weight: Weight used for lensing calculations\n",
    "    - i_hsmshaperegauss_derived_shear_bias_m : Multiplicative bias factor \n",
    "    - i_hsmshaperegauss_derived_shear_bias_c1/2: Additive bias factor for each component\n",
    "    - i_hsmshaperegauss_resolution: The resolution compared to the PSF \n",
    "    - i_apertureflux_10_mag: The flux in aperture with radius 1 arcsec \n",
    "    - hsc_y3_zbin: redshift bin number (from 1 to 4) for the HSC cosmic shear analysis.\n",
    "    - b_mode_mask: Mask to remove regions with large B-mode (use b_mode_mask==True to select galaxies not in the masked region)"
   ]
  },
  {
   "cell_type": "code",
   "execution_count": 1,
   "id": "f2f4e796-b233-4ceb-818f-f4fc2dadb4b4",
   "metadata": {},
   "outputs": [],
   "source": [
    "import os\n",
    "import astropy.io.fits as pyfits\n",
    "data_dir = \"/work/xiangchong.li/work/S19ACatalogs/catalog_obs_reGaus_public\"\n",
    "file_name = os.path.join(data_dir, \"XMM.fits\")\n",
    "data = pyfits.getdata(file_name)\n",
    "data_z1 = data[data[\"hsc_y3_zbin\"] ==1 ]"
   ]
  },
  {
   "cell_type": "markdown",
   "id": "3fe40eef-d1fd-496c-b28a-95c36822716e",
   "metadata": {},
   "source": [
    "# Calculate the average multiplicative bias and shear response\n",
    "The multiplicative bias includes\n",
    "+ shear estimation bias (`mbias`)\n",
    "+ selection bias (`msel`)\n",
    "\n",
    "In additon, we need to get the fractional additive bias from selection (`asel`) and the shear response (`response`)"
   ]
  },
  {
   "cell_type": "code",
   "execution_count": 15,
   "id": "8fa23af0-a415-4f3b-b10b-bd738384fe72",
   "metadata": {},
   "outputs": [],
   "source": [
    "# We are estimating the average over all fields\n",
    "data_z1 = []\n",
    "data_dir = \"/work/xiangchong.li/work/S19ACatalogs/catalog_obs_reGaus_calibrated/\"\n",
    "for fieldname in [\"XMM\", \"VVDS\", \"HECTOMAP\", \"GAMA09H\", \"WIDE12H\", \"GAMA15H\"]:\n",
    "    file_name = os.path.join(data_dir, \"%s_calibrated.fits\" % fieldname)\n",
    "    data = pyfits.getdata(file_name)\n",
    "    sel = (data[\"hsc_y3_zbin\"] ==1) & (data[\"b_mode_mask\"])\n",
    "    data_z1.append(data[sel])\n",
    "data_z1 = np.hstack(data_z1)\n",
    "wsum = np.sum(data_z1['i_hsmshaperegauss_derived_weight'])\n",
    "\n",
    "# Multiplicative bias\n",
    "mbias = np.sum(\n",
    "    data_z1['i_hsmshaperegauss_derived_shear_bias_m']\n",
    "    * data_z1['i_hsmshaperegauss_derived_weight']\n",
    ") / wsum\n",
    "\n",
    "# Shear response\n",
    "response = 1 - np.sum(\n",
    "    data_z1['i_hsmshaperegauss_derived_rms_e']**2.0\n",
    "    * data_z1['i_hsmshaperegauss_derived_weight']\n",
    ") / wsum\n",
    "\n",
    "# Selection bias\n",
    "from utils_shear_ana import catutil\n",
    "msel, asel, msel_err, asel_err = catutil.get_sel_bias(\n",
    "    data_z1['i_hsmshaperegauss_derived_weight'],\n",
    "    data_z1['i_apertureflux_10_mag'],\n",
    "    data_z1['i_hsmshaperegauss_resolution'],\n",
    ")"
   ]
  },
  {
   "cell_type": "markdown",
   "id": "aec874cd-bbc4-483c-8866-e74e3eb3c69b",
   "metadata": {},
   "source": [
    "# Transform the shape catalog to shear catalog"
   ]
  },
  {
   "cell_type": "code",
   "execution_count": 16,
   "id": "b4397af9-c8f5-446e-8900-dd80e87b9d79",
   "metadata": {},
   "outputs": [],
   "source": [
    "# shear\n",
    "g1, g2 = catutil.get_shear_regauss(data_z1, mbias, msel, asel)\n",
    "# position\n",
    "ra, dec = catutil.get_radec(data_z1)\n",
    "# weight\n",
    "weight = catutil.get_shape_weight_regauss(data_z1)"
   ]
  }
 ],
 "metadata": {
  "kernelspec": {
   "display_name": "Python 3 (ipykernel)",
   "language": "python",
   "name": "python3"
  },
  "language_info": {
   "codemirror_mode": {
    "name": "ipython",
    "version": 3
   },
   "file_extension": ".py",
   "mimetype": "text/x-python",
   "name": "python",
   "nbconvert_exporter": "python",
   "pygments_lexer": "ipython3",
   "version": "3.11.8"
  }
 },
 "nbformat": 4,
 "nbformat_minor": 5
}
