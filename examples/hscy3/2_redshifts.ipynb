{
 "cells": [
  {
   "cell_type": "code",
   "execution_count": 2,
   "id": "577ab728-95d1-4dab-bc93-67a76cf2d931",
   "metadata": {},
   "outputs": [],
   "source": [
    "%matplotlib inline\n",
    "import numpy as np\n",
    "import matplotlib.pylab as plt\n",
    "import astropy.io.fits as pyfits"
   ]
  },
  {
   "cell_type": "code",
   "execution_count": null,
   "id": "8ef31949-70c9-4f37-9fa0-c8b3cd22238c",
   "metadata": {},
   "outputs": [],
   "source": [
    "z_data = pyfits.getdata(\"nz_average.fits\")\n",
    "plt.plot(z_data[\"z_mid\"], z_data[\"bin1\"])\n",
    "plt.plot(z_data[\"z_mid\"], z_data[\"bin2\"])\n",
    "plt.plot(z_data[\"z_mid\"], z_data[\"bin3\"])\n",
    "plt.plot(z_data[\"z_mid\"], z_data[\"bin4\"])"
   ]
  },
  {
   "cell_type": "code",
   "execution_count": null,
   "id": "76cf839e-4eef-448c-8450-8a7c00da0a08",
   "metadata": {},
   "outputs": [],
   "source": []
  }
 ],
 "metadata": {
  "kernelspec": {
   "display_name": "Python 3 (ipykernel)",
   "language": "python",
   "name": "python3"
  },
  "language_info": {
   "codemirror_mode": {
    "name": "ipython",
    "version": 3
   },
   "file_extension": ".py",
   "mimetype": "text/x-python",
   "name": "python",
   "nbconvert_exporter": "python",
   "pygments_lexer": "ipython3",
   "version": "3.10.10"
  }
 },
 "nbformat": 4,
 "nbformat_minor": 5
}
